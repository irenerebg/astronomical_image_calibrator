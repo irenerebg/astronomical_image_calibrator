{
 "cells": [
  {
   "cell_type": "markdown",
   "metadata": {},
   "source": [
    "# Generador de imágenes calibradas\n",
    "\n",
    "En este notebook se generan los archivos de las imágenes calibradas, tanto en .png como en archivo .fits\n",
    "\n",
    "## Importación de módulos\n",
    "\n",
    "[file_shortcuts](file_shortcuts.py) es el módulo en el cual se definen las funciones de ayuda para abrir y generar archivos fits de forma más rápida y cómoda.\n",
    "\n",
    "[calibrator](calibrator.py) es el módulo en el cual se define la función que toma las imágenes Master para calibrar nuestra imagen."
   ]
  },
  {
   "cell_type": "code",
   "execution_count": 21,
   "metadata": {},
   "outputs": [],
   "source": [
    "import file_shortcuts as file\n",
    "import calibrator as calib\n",
    "import matplotlib.pyplot as plt\n",
    "from numpy import log, float32"
   ]
  },
  {
   "cell_type": "markdown",
   "metadata": {},
   "source": [
    "## Apertura de imagen astronómica\n",
    "\n",
    "Se abren las imágenes a calibrar y se genera un array con las matrices de cada imagen"
   ]
  },
  {
   "cell_type": "code",
   "execution_count": 22,
   "metadata": {},
   "outputs": [],
   "source": [
    "object_name = \"Pallas_A802_FA\"            # select the folder of the object to calibrate\n",
    "n_images = 5                     # number of images to calibrate\n",
    "\n",
    "path = f\"./data/Lights/{object_name}/{object_name}_Light_\"\n",
    "bits_images, _ = file.file_array_generator(path, n_images)"
   ]
  },
  {
   "cell_type": "markdown",
   "metadata": {},
   "source": [
    "## Apertura de imágenes Master (método AAVSO)"
   ]
  },
  {
   "cell_type": "code",
   "execution_count": 23,
   "metadata": {},
   "outputs": [],
   "source": [
    "bias_aavso = file.file_opener(\"./master_files/AAVSO/master_Bias.fits\")\n",
    "dark_aavso = file.file_opener(\"./master_files/AAVSO/master_Dark.fits\")\n",
    "flat_aavso = file.file_opener(\"./master_files/AAVSO/master_Flat.fits\")"
   ]
  },
  {
   "cell_type": "markdown",
   "metadata": {},
   "source": [
    "## Apertura de imágenes Master (método MAD)"
   ]
  },
  {
   "cell_type": "code",
   "execution_count": 24,
   "metadata": {},
   "outputs": [],
   "source": [
    "bias_MAD = file.file_opener(\"./master_files/MAD/master_Bias_MAD.fits\")\n",
    "dark_MAD = file.file_opener(\"./master_files/MAD/master_Dark_MAD.fits\")\n",
    "flat_MAD = file.file_opener(\"./master_files/MAD/master_Flat_MAD.fits\")"
   ]
  },
  {
   "cell_type": "markdown",
   "metadata": {},
   "source": [
    "## Calibración por la AAVSO"
   ]
  },
  {
   "cell_type": "code",
   "execution_count": 25,
   "metadata": {},
   "outputs": [],
   "source": [
    "method = \"AAVSO\"\n",
    "for i in range(n_images):\n",
    "    # Image calibration \n",
    "    final_image_AAVSO = calib.image_calibrator(dark_aavso, bias_aavso, flat_aavso, bits_images[i])\n",
    "    # fits file generation\n",
    "    header = file.save_header(path, n_images)\n",
    "    file.hdu_image_generator((final_image_AAVSO*10**4).astype(float32), header, object_name,\"AAVSO\",i+1) # *10^4 -> same order of magnitude as the original file\n",
    "    # png file generation\n",
    "    fig, ax = plt.subplots(1, 1, figsize=(9, 6.5))\n",
    "    ax.imshow(log(final_image_AAVSO), cmap='gray')\n",
    "    ax.axis('off')\n",
    "    ax.set_title(f'{object_name}_{i+1:03d} {method}')\n",
    "    plt.savefig(f'./calibrated_images/{method}/{object_name}/{object_name}_{i+1:03d}.png')\n",
    "    plt.close()"
   ]
  },
  {
   "cell_type": "markdown",
   "metadata": {},
   "source": [
    "## Calibración por la MAD"
   ]
  },
  {
   "cell_type": "code",
   "execution_count": 26,
   "metadata": {},
   "outputs": [],
   "source": [
    "method = \"MAD\"\n",
    "for i in range(n_images): \n",
    "    # Image calibration\n",
    "    final_image_MAD = calib.image_calibrator(dark_MAD, bias_MAD, flat_MAD, bits_images[i])\n",
    "    # fits file generation\n",
    "    header = file.save_header(path, n_images)\n",
    "    file.hdu_image_generator((final_image_MAD*10**4).astype(float32), header, object_name,\"MAD\",i+1) # *10^4 -> same order of magnitude as the original file\n",
    "    # png file generation\n",
    "    fig, ax = plt.subplots(1, 1, figsize=(9, 6.5))\n",
    "    ax.imshow(log(final_image_MAD), cmap='gray')\n",
    "    ax.axis('off')\n",
    "    ax.set_title(f'{object_name}_{i+1:03d} {method}')\n",
    "    plt.savefig(f'./calibrated_images/{method}/{object_name}/{object_name}_{i+1:03d}.png')\n",
    "    plt.close()"
   ]
  }
 ],
 "metadata": {
  "kernelspec": {
   "display_name": "Python 3",
   "language": "python",
   "name": "python3"
  },
  "language_info": {
   "codemirror_mode": {
    "name": "ipython",
    "version": 3
   },
   "file_extension": ".py",
   "mimetype": "text/x-python",
   "name": "python",
   "nbconvert_exporter": "python",
   "pygments_lexer": "ipython3",
   "version": "3.11.9"
  }
 },
 "nbformat": 4,
 "nbformat_minor": 2
}
