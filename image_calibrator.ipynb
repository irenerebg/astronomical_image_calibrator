{
 "cells": [
  {
   "cell_type": "markdown",
   "metadata": {},
   "source": [
    "# Generador de imágenes calibradas\n",
    "\n",
    "En este notebook se generan los archivos de las imágenes calibradas, tanto en .png como en archivo .fits\n",
    "\n",
    "## Importación de módulos\n",
    "\n",
    "[file_shortcuts](file_shortcuts.py) es el módulo en el cual se definen las funciones de ayuda para abrir y generar archivos fits de forma más rápida y cómoda.\n",
    "\n",
    "[calibrator](calibrator.py) es el módulo en el cual se define la función que toma las imágenes Master para calibrar nuestra imagen."
   ]
  },
  {
   "cell_type": "code",
   "execution_count": 30,
   "metadata": {},
   "outputs": [],
   "source": [
    "import file_shortcuts as file\n",
    "import calibrator as calib\n",
    "import matplotlib.pyplot as plt\n",
    "from numpy import log, float32\n",
    "import os\n",
    "import time"
   ]
  },
  {
   "cell_type": "markdown",
   "metadata": {},
   "source": [
    "## Apertura de imagen astronómica\n",
    "\n",
    "Se abren las imágenes a calibrar y se genera un array con las matrices de cada imagen"
   ]
  },
  {
   "cell_type": "code",
   "execution_count": 31,
   "metadata": {},
   "outputs": [],
   "source": [
    "object_name = \"Pallas_A802_FA\"            # select the folder of the object to calibrate\n",
    "n_images = 5                              # number of images to calibrate\n",
    "\n",
    "path = f\"./data/Lights/{object_name}/{object_name}_Light_\"\n",
    "bits_images, _ = file.file_array_generator(path, n_images)"
   ]
  },
  {
   "cell_type": "markdown",
   "metadata": {},
   "source": [
    "## Apertura de imágenes Master (método AAVSO)"
   ]
  },
  {
   "cell_type": "code",
   "execution_count": 32,
   "metadata": {},
   "outputs": [],
   "source": [
    "bias_aavso = file.file_opener(\"./master_files/AAVSO/master_Bias.fits\")\n",
    "dark_aavso = file.file_opener(\"./master_files/AAVSO/master_Dark.fits\")\n",
    "flat_aavso = file.file_opener(\"./master_files/AAVSO/master_Flat.fits\")"
   ]
  },
  {
   "cell_type": "markdown",
   "metadata": {},
   "source": [
    "## Apertura de imágenes Master (método MAD)"
   ]
  },
  {
   "cell_type": "code",
   "execution_count": 33,
   "metadata": {},
   "outputs": [],
   "source": [
    "bias_MAD = file.file_opener(\"./master_files/MAD/master_Bias_MAD.fits\")\n",
    "dark_MAD = file.file_opener(\"./master_files/MAD/master_Dark_MAD.fits\")\n",
    "flat_MAD = file.file_opener(\"./master_files/MAD/master_Flat_MAD.fits\")"
   ]
  },
  {
   "cell_type": "markdown",
   "metadata": {},
   "source": [
    "## Calibración por la AAVSO"
   ]
  },
  {
   "cell_type": "code",
   "execution_count": 34,
   "metadata": {},
   "outputs": [],
   "source": [
    "method = \"AAVSO\"\n",
    "for i in range(n_images):\n",
    "    # Image calibration \n",
    "    final_image_AAVSO = calib.image_calibrator(dark_aavso, bias_aavso, flat_aavso, bits_images[i])\n",
    "    # fits file generation\n",
    "    header = file.save_header(path, n_images)\n",
    "    file.hdu_image_generator((final_image_AAVSO*10**4).astype(float32), header, object_name,\"AAVSO\",i+1) # *10^4 -> same order of magnitude as the original file\n",
    "    # change file time to original file time\n",
    "    source_file = path + f\"{i+1:03d}.fits\"\n",
    "    target_file = f'./calibrated_files/{method}/{object_name}/Calibrated_{object_name}_{i+1:03d}.fits'\n",
    "    source_mod_time = os.path.getmtime(source_file)\n",
    "    target_access_time = os.path.getatime(target_file)\n",
    "    os.utime(target_file, (target_access_time, source_mod_time))\n",
    "    # png file generation\n",
    "    fig, ax = plt.subplots(1, 1, figsize=(9, 6.5))\n",
    "    ax.imshow(log(final_image_AAVSO), cmap='gray')\n",
    "    ax.axis('off')\n",
    "    ax.set_title(f'{object_name}_{i+1:03d} {method}')\n",
    "    plt.savefig(f'./calibrated_images/{method}/{object_name}/{object_name}_{i+1:03d}.png')\n",
    "    plt.close()"
   ]
  },
  {
   "cell_type": "markdown",
   "metadata": {},
   "source": [
    "## Calibración por la MAD"
   ]
  },
  {
   "cell_type": "code",
   "execution_count": 35,
   "metadata": {},
   "outputs": [],
   "source": [
    "method = \"MAD\"\n",
    "for i in range(n_images): \n",
    "    # Image calibration\n",
    "    final_image_MAD = calib.image_calibrator(dark_MAD, bias_MAD, flat_MAD, bits_images[i])\n",
    "    # fits file generation\n",
    "    header = file.save_header(path, n_images)\n",
    "    file.hdu_image_generator((final_image_MAD*10**4).astype(float32), header, object_name,\"MAD\",i+1) # *10^4 -> same order of magnitude as the original file\n",
    "    # change file time to original file time\n",
    "    source_file = path + f\"{i+1:03d}.fits\"\n",
    "    target_file = f'./calibrated_files/{method}/{object_name}/Calibrated_{object_name}_{i+1:03d}.fits'\n",
    "    source_mod_time = os.path.getmtime(source_file)\n",
    "    target_access_time = os.path.getatime(target_file)\n",
    "    os.utime(target_file, (target_access_time, source_mod_time))\n",
    "    # png file generation\n",
    "    fig, ax = plt.subplots(1, 1, figsize=(9, 6.5))\n",
    "    ax.imshow(log(final_image_MAD), cmap='gray')\n",
    "    ax.axis('off')\n",
    "    ax.set_title(f'{object_name}_{i+1:03d} {method}')\n",
    "    plt.savefig(f'./calibrated_images/{method}/{object_name}/{object_name}_{i+1:03d}.png')\n",
    "    plt.close()"
   ]
  }
 ],
 "metadata": {
  "kernelspec": {
   "display_name": "Python 3",
   "language": "python",
   "name": "python3"
  },
  "language_info": {
   "codemirror_mode": {
    "name": "ipython",
    "version": 3
   },
   "file_extension": ".py",
   "mimetype": "text/x-python",
   "name": "python",
   "nbconvert_exporter": "python",
   "pygments_lexer": "ipython3",
   "version": "3.11.9"
  }
 },
 "nbformat": 4,
 "nbformat_minor": 2
}
