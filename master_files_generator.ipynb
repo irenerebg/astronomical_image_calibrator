{
 "cells": [
  {
   "cell_type": "markdown",
   "metadata": {},
   "source": [
    "# Generador de tomas Master\n",
    "\n",
    "En este notebook se generan las tomas Master de las imágenes de calibración: Flat, Bias y Dark.\n",
    "\n",
    "## Importación de módulos\n",
    "\n",
    "[file_shortcuts](file_shortcuts.py) es el módulo en el cual se define la función que abre un conjunto de archivos .fits\n",
    "y los convierte en un array de matrices. Cada matriz representa una imagen. También se guarda el tiempo de exposición.\n",
    "\n",
    "[combination_functions](combination_functions.py) es el módulo en el cual se define las diferentes funciones que se\n",
    "aplican para combinar imágenes.\n"
   ]
  },
  {
   "cell_type": "code",
   "execution_count": 8,
   "metadata": {},
   "outputs": [],
   "source": [
    "import file_shortcuts as file\n",
    "import combination_functions as func"
   ]
  },
  {
   "cell_type": "markdown",
   "metadata": {},
   "source": [
    "## Apertura de archivos .fits"
   ]
  },
  {
   "cell_type": "code",
   "execution_count": 9,
   "metadata": {},
   "outputs": [],
   "source": [
    "# Paths for each type of calibration image are defined\n",
    "bias_path = \"./data/Bias/Bias_Bias_\"\n",
    "darks_path = \"./data/Darks/Darks/Dark_Dark_\"\n",
    "flats_path = \"./data/Flats/Flat_Flat_Clear_\"\n",
    "flats_darks_path = \"./data/Darks/Flat_Darks/Dark_Dark_\"\n",
    "\n",
    "# We define the number of images we have in each folder\n",
    "n_b, n_d, n_f, n_f_d = 10, 10, 6, 5\n",
    "\n",
    "# Generates an array with n images and a variable with the exposure time of the images\n",
    "bits_bias, exp_time_bias = file.file_array_generator(bias_path, n_b)\n",
    "bits_dark, exp_time_dark = file.file_array_generator(darks_path, n_d)\n",
    "bits_flat, exp_time_flat = file.file_array_generator(flats_path, n_f)\n",
    "bits_flat_dark, exp_time_flat_dark = file.file_array_generator(flats_darks_path, n_f_d)"
   ]
  },
  {
   "cell_type": "markdown",
   "metadata": {},
   "source": [
    "# Método recomendado por la AAVSO"
   ]
  },
  {
   "cell_type": "markdown",
   "metadata": {},
   "source": [
    "## Generación de Master Bias\n",
    "\n",
    "Para la generación del archivo .fits Master del Bias se utiliza la media."
   ]
  },
  {
   "cell_type": "code",
   "execution_count": 10,
   "metadata": {},
   "outputs": [],
   "source": [
    "master_bias = func.average(bits_bias)\n",
    "file.hdu_master_generator(master_bias,exp_time_bias,\"Bias\",\"AAVSO\")"
   ]
  },
  {
   "cell_type": "markdown",
   "metadata": {},
   "source": [
    "## Generación de Master Dark\n",
    "\n",
    "Para la generación del archivo .fits Master del Dark se utiliza la mediana."
   ]
  },
  {
   "cell_type": "code",
   "execution_count": 11,
   "metadata": {},
   "outputs": [],
   "source": [
    "master_dark = func.median(bits_dark)\n",
    "file.hdu_master_generator(master_dark, exp_time_dark,\"Dark\",\"AAVSO\")"
   ]
  },
  {
   "cell_type": "markdown",
   "metadata": {},
   "source": [
    "## Generación del Master Flat\n",
    "\n",
    "Para la generación del archivo .fits Master del Flat, se utiliza la media.\n",
    "\n",
    "Después se restan los Darks propios de los Flats, que previamente han de ser combinados para generar una\n",
    "toma Master de los Darks de los Flats"
   ]
  },
  {
   "cell_type": "code",
   "execution_count": 12,
   "metadata": {},
   "outputs": [],
   "source": [
    "master_flat = func.average(bits_flat) - func.median(bits_flat_dark)\n",
    "file.hdu_master_generator(master_flat, exp_time_flat,\"Flat\",\"AAVSO\")"
   ]
  },
  {
   "cell_type": "markdown",
   "metadata": {},
   "source": [
    "# Método recomendado por Astropy: Desviación absoluta de la mediana\n",
    "\n",
    "En este caso se estará utilizando la MAD para todos los tipos de archivo"
   ]
  },
  {
   "cell_type": "code",
   "execution_count": 13,
   "metadata": {},
   "outputs": [],
   "source": [
    "master_bias_MAD = func.median_absolute_deviation(bits_bias)\n",
    "master_dark_MAD = func.median_absolute_deviation(bits_dark)\n",
    "master_flat_MAD = func.median_absolute_deviation(bits_flat) - func.median_absolute_deviation(bits_flat_dark)\n",
    "\n",
    "file.hdu_master_generator(master_bias_MAD, exp_time_bias,\"Bias_MAD\",\"MAD\")\n",
    "file.hdu_master_generator(master_dark_MAD, exp_time_dark,\"Dark_MAD\",\"MAD\")\n",
    "file.hdu_master_generator(master_flat_MAD, exp_time_flat,\"Flat_MAD\",\"MAD\")"
   ]
  }
 ],
 "metadata": {
  "kernelspec": {
   "display_name": "Python 3",
   "language": "python",
   "name": "python3"
  },
  "language_info": {
   "codemirror_mode": {
    "name": "ipython",
    "version": 3
   },
   "file_extension": ".py",
   "mimetype": "text/x-python",
   "name": "python",
   "nbconvert_exporter": "python",
   "pygments_lexer": "ipython3",
   "version": "3.11.9"
  }
 },
 "nbformat": 4,
 "nbformat_minor": 2
}
